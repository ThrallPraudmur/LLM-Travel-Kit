{
  "nbformat": 4,
  "nbformat_minor": 0,
  "metadata": {
    "colab": {
      "provenance": []
    },
    "kernelspec": {
      "name": "python3",
      "display_name": "Python 3"
    },
    "language_info": {
      "name": "python"
    }
  },
  "cells": [
    {
      "cell_type": "markdown",
      "source": [
        "## Задание\n",
        "### Создание чат-бота для определения текущего времени и погоды в определённый день"
      ],
      "metadata": {
        "id": "2gvINKSS4hWQ"
      }
    },
    {
      "cell_type": "markdown",
      "source": [
        "## Введение\n",
        "### Необходимо написать чат-бота на основе LLM, который:\n",
        "* Отвечает на запросы пользователя о текущем времени\n",
        "* Определяет погоду по запросу за указанную дату\n",
        "* Использует сторонние API для получения информации (например, `Open Meteo`)\n"
      ],
      "metadata": {
        "id": "7SxRkx_h5QHb"
      }
    },
    {
      "cell_type": "markdown",
      "source": [
        "## Требования к реализации:\n",
        "* Чат-бот должен корректно определять дату из сообщений Пользователя\n",
        "* Результаты выполнения кода и пример диалога должны быть отображены в ячейках\n",
        "* Можно использовать консольный интерфейс через `input` и `print`"
      ],
      "metadata": {
        "id": "Xqh5CBCo5VKu"
      }
    },
    {
      "cell_type": "code",
      "source": [
        "%%capture\n",
        "!pip install langchain langchain-community"
      ],
      "metadata": {
        "id": "WZfg8uMEuQ7Y"
      },
      "execution_count": null,
      "outputs": []
    },
    {
      "cell_type": "code",
      "source": [
        "# Импорты и установка окружения\n",
        "from langchain import hub\n",
        "from langchain.agents import AgentExecutor, create_react_agent\n",
        "from langchain_community.llms import HuggingFaceEndpoint\n",
        "from langchain.memory import ChatMessageHistory\n",
        "from langchain_core.runnables.history import RunnableWithMessageHistory\n",
        "from langchain.prompts import PromptTemplate, ChatPromptTemplate, MessagesPlaceholder\n",
        "from langchain.tools import StructuredTool\n",
        "from pydantic import BaseModel, Field\n",
        "\n",
        "# Подавление предупреждений\n",
        "import warnings\n",
        "warnings.simplefilter('ignore', FutureWarning)\n",
        "\n",
        "import os\n",
        "import requests\n",
        "from datetime import datetime\n",
        "\n",
        "os.environ['HUGGINGFACEHUB_API_TOKEN'] = 'token'\n",
        "\n",
        "llm = HuggingFaceEndpoint(repo_id='mistralai/Mistral-Nemo-Instruct-2407', temperature=0.1)\n",
        "\n",
        "# API для определения температуры\n",
        "url = 'https://archive-api.open-meteo.com/v1/archive'\n",
        "\n",
        "# Координаты Москвы\n",
        "params = {\n",
        "    'latitude': 55.7558,\n",
        "    'longitude': 37.6173,\n",
        "    'hourly': 'temperature_2m',\n",
        "    'timezone': 'Europe/Moscow'\n",
        "    }\n",
        "\n",
        "# Функции бота\n",
        "def get_current_time():\n",
        "    \"\"\"\n",
        "    Функция для получения текущего времени\n",
        "    \"\"\"\n",
        "    return str(datetime.now().strftime(\"%H:%M\"))\n",
        "\n",
        "def get_weather_for_date(date):\n",
        "    \"\"\"\n",
        "    Функция для получения средней температуры в указанный день\n",
        "    \"\"\"\n",
        "    date = date.replace('</s>', '')\n",
        "    params['start_date'] = str(date.split('\\n')[0])\n",
        "    params['end_date'] = str(date.split('\\n')[0])\n",
        "\n",
        "    response = requests.get(url, params=params)\n",
        "    data = response.json()\n",
        "\n",
        "    # Расчет средней температуры\n",
        "    temps = data['hourly']['temperature_2m']\n",
        "    avg_temp = round(sum(temps) / len(temps), 1)\n",
        "\n",
        "    return avg_temp\n",
        "\n",
        "def get_date_of_interest():\n",
        "    \"\"\"\n",
        "    Функция анализа истории чата и определения даты из последнего сообщения\n",
        "    \"\"\"\n",
        "    user_history = '\\n'.join([msg.content for msg in history.messages])\n",
        "\n",
        "    prompt = f\"\"\"\n",
        "    Внимательно прочитай чат пользователя с ботом и определи, какая дата интересует его в последнем предложении.\n",
        "    В ответ укажи только последнюю дату в формате YYYY-mm-dd.\n",
        "\n",
        "    Чат с пользователем:\n",
        "    {user_history}\n",
        "    \"\"\"\n",
        "\n",
        "    answer = llm.invoke(prompt)\n",
        "    return answer\n",
        "\n",
        "def introduce_yourself():\n",
        "    \"\"\"\n",
        "    Функция приветствия\n",
        "    \"\"\"\n",
        "    system_prompt = \"\"\"\n",
        "    Ты - погодный чат-бот.\n",
        "    Твоя задача кратко отвечать на вопросы пользователя.\n",
        "    Вежливо поздоровайся с пользователем и предложи свою помощь в определении температуры.\n",
        "    \"\"\"\n",
        "    return system_prompt\n",
        "\n",
        "# Описание тулов для агента\n",
        "tools = [\n",
        "    StructuredTool.from_function(\n",
        "        func=get_date_of_interest,  # The function to be wrapped as a tool\n",
        "        name='Get More Information about the unknown Date',  # Name of the tool\n",
        "        description='May be useful to get more information from the chat',  # Description of what the tool does\n",
        "    ),\n",
        "    StructuredTool.from_function(\n",
        "        func=get_weather_for_date,  # The function to be wrapped as a tool\n",
        "        name='Get Weather For Date',  # Name of the tool\n",
        "        description='Полезно при определении температуры, когда уже определился с датой: Дата - строго в формате YYYY-mm-dd',  # Description of what the tool does\n",
        "    ),\n",
        "    StructuredTool.from_function(\n",
        "        func=get_current_time,  # The function to be wrapped as a tool\n",
        "        name='What Time is It',  # Name of the tool\n",
        "        description='Полезно, чтобы узнать, сколько время',  # Description of what the tool does\n",
        "    ),\n",
        "    StructuredTool.from_function(\n",
        "        func=introduce_yourself,  # The function to be wrapped as a tool\n",
        "        name='Introduce Yourself',  # Name of the tool\n",
        "        description='Используй, чтобы узнать, что ты умеешь и чем можешь помочь',  # Description of what the tool does\n",
        "    )\n",
        "]\n",
        "\n",
        "# Создание агента\n",
        "prompt = hub.pull('hwchase17/react')\n",
        "agent = create_react_agent(llm, tools, prompt)\n",
        "\n",
        "# Инициализация исполнителя агента\n",
        "agent_executor = AgentExecutor(\n",
        "    agent = agent,  # The agent to execute\n",
        "    tools = tools,  # The tools available to the agent\n",
        "    # verbose = True,  # Enable verbose output\n",
        "    max_iterations = 4,  # Set maximum number of iterations\n",
        "    early_stopping_method = 'force',  # Force stop after max_iterations\n",
        "    handle_parsing_errors = True,\n",
        ")\n",
        "\n",
        "# Инициализация истории чата\n",
        "history = ChatMessageHistory()"
      ],
      "metadata": {
        "colab": {
          "base_uri": "https://localhost:8080/"
        },
        "id": "zRNAurFGI3Vs",
        "outputId": "2e2ddee7-0093-45b9-bf38-1fe1514e3908"
      },
      "execution_count": null,
      "outputs": [
        {
          "output_type": "stream",
          "name": "stderr",
          "text": [
            "/usr/local/lib/python3.11/dist-packages/langsmith/client.py:253: LangSmithMissingAPIKeyWarning: API key must be provided when using hosted LangSmith API\n",
            "  warnings.warn(\n"
          ]
        }
      ]
    },
    {
      "cell_type": "code",
      "source": [
        "# Основной цикл работы чат-бота\n",
        "while True:\n",
        "    user_input = input('Вы: ')\n",
        "\n",
        "    # Сценарий выхода из чата\n",
        "    if 'пока' in user_input.lower():\n",
        "        print('Погодный чат-бот: Пока!')\n",
        "        break\n",
        "\n",
        "    # Добавление сообщений пользователя в историю\n",
        "    history.add_user_message(f'Вопрос Пользователя: {user_input}')\n",
        "\n",
        "    # Получение ответа от агента\n",
        "    result = agent_executor.invoke({'input': user_input})\n",
        "    answer = result['output']\n",
        "\n",
        "    # Сохранение ответа бота в историю\n",
        "    history.add_ai_message(f'Твой предыдущий ответ: {answer}')\n",
        "\n",
        "    # Вывод ответа бота в консоль\n",
        "    print(\"Погодный чат-бот:\", answer.replace('</s>', ''))"
      ],
      "metadata": {
        "colab": {
          "base_uri": "https://localhost:8080/"
        },
        "id": "VrgrXhGQObAl",
        "outputId": "855e6d24-5bb0-4d99-d192-cbba019d3d97"
      },
      "execution_count": null,
      "outputs": [
        {
          "output_type": "stream",
          "name": "stdout",
          "text": [
            "Вы: Привет! Что умеешь?\n",
            "Погодный чат-бот: Привет! Я погодный чат-бот. Моя задача кратко отвечать на вопросы пользователя. Я могу помочь вам определить температуру. Как я могу вам помочь?\n",
            "Вы: Какая погода была 12 мая 1991 года?\n",
            "Погодный чат-бот: 12 мая 1991 года температура была 10.4°C.\n",
            "Вы: А какой погода стала через месяц?\n",
            "Погодный чат-бот: Через месяц, 12 июня 1991 года, температура была 18.2°C.\n",
            "Вы: Сколько время?\n",
            "Погодный чат-бот: 18:15\n",
            "Вы: Спасибо, пока!\n",
            "Погодный чат-бот: Пока!\n"
          ]
        }
      ]
    }
  ]
}