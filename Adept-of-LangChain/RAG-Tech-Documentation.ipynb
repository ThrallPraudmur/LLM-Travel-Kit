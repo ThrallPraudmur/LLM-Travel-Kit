{
  "nbformat": 4,
  "nbformat_minor": 0,
  "metadata": {
    "colab": {
      "provenance": []
    },
    "kernelspec": {
      "name": "python3",
      "display_name": "Python 3"
    },
    "language_info": {
      "name": "python"
    }
  },
  "cells": [
    {
      "cell_type": "markdown",
      "source": [
        "## Задание"
      ],
      "metadata": {
        "id": "wmQ8GjsjTvgQ"
      }
    },
    {
      "cell_type": "markdown",
      "source": [
        "Необходимо сделать прототип RAG системы на документах из папки data которая будет отвечать на следующие вопросы:\n",
        "```\n",
        "1) В каких зонах по весу снежного покрова находятся Херсон и Мелитополь?\n",
        "2) Какие регионы Российской Федерации имеют высотный коэффициент  k_h , превышающий 2?\n",
        "3) Выведи рекомендуемые варианты конструктивного решения заземлителей для стержневых молниеприемников.\n",
        "4) Что означает аббревиатура 'ТС'?\n",
        "5) Что должна содержать Пояснительная записка в графической части?\n",
        "6) Сколько разделов должна содержать проектная документация согласно 87ому постановлению?\n",
        "7) Какая максимальная скорость движения подземных машин в выработках?\n",
        "8) Какая максимальная температура допускается в горных выработках?\n",
        "9) Какие допустимые значения по отклонению геометрических параметров сечения горных выработок?\n",
        "10) В каком пункте указана минимальная толщина защитного слоя бетона для арматуры при креплении стволов монолитной бетонной крепью?\n",
        "```\n",
        "Ответы должны быть короткими а также содержать ссылку на документы, на основании которых был составлен ответ.\n",
        "\n",
        "Что интересует в решениии:\n",
        "1) Предобработка данных, чанкинг, выбор индекса\n",
        "2) RAG пайплайн, выбранный фреймворк для построения системы\n",
        "\n",
        "Сдача решения:\n",
        "1) Необходимо представить свое решение в формате презентации где детально рассказать о том что попробовали, что получилось, показать код решения а также ответы системы. Представить свои размышления по улучшению системы, где \"узкое горлышко\" и тд.\n",
        "2) Быть готовым ответить на вопрос по решению."
      ],
      "metadata": {
        "id": "pGBNYbuRpWIS"
      }
    },
    {
      "cell_type": "markdown",
      "source": [
        "## Презентация логики построения RAG-системы: структура и обоснование"
      ],
      "metadata": {
        "id": "hK0rxQx4TuF9"
      }
    },
    {
      "cell_type": "markdown",
      "source": [
        "### 1. Предобработка данных и чанкинг"
      ],
      "metadata": {
        "id": "XCk-U7rVX3No"
      }
    },
    {
      "cell_type": "markdown",
      "source": [
        "Предобработка данных и чанкинг:\n",
        "* Использование структуры документа (центрированные заголовки, цифровые подразделы) для автоматической извлечении иерархии через `.find()` и регулярные выражения\n",
        "* Группировка буквенных подпунктов в родительские чанки для сохранения контекста\n",
        "* Представить документ в JSON-структуре\n",
        "* Overlapping chunks\n",
        "\n",
        "Почему так:\n",
        "* Контекстная целостность: чанки отражают логическую структуру документа, что улучшает релевантность поиска\n",
        "* Простота реализации: минимизация зависимости от тяжелых библиотек и вычислительных мощностей\n",
        "* JSON-структура документа позволяет легко фильтровать и индексировать данные\n",
        "\n",
        "Слабые места:\n",
        "* Хрупкость к формату: решение зависит от строго оформления документов\n",
        "* Ручные правила: требует точного знания структуры всех вводных документов\n",
        "\n",
        "Потенциальные улучшения:\n",
        "* Добавить парсинг стилей, если документ сам нам подсказывает своим оформлением на структурную единицу документа\n",
        "* Использовать LLM для точного выуживания названий разделов и подразделов"
      ],
      "metadata": {
        "id": "O7q9X-5WWCgi"
      }
    },
    {
      "cell_type": "markdown",
      "source": [
        "### 2. RAG-пайплайн и выбор фреймворка"
      ],
      "metadata": {
        "id": "WNdfnwuKWCua"
      }
    },
    {
      "cell_type": "markdown",
      "source": [
        "* В качестве основного фреймворка был выбран LangChain: интеграция с open-source моделями посредством API, PydanticOutputParser - строгая типизация и валидация выходный данных, упрощённое взаимодействие с моделями\n",
        "* LLM как роутер: модель анализирует вопрос, выбирает документы и разделы через Pydantic-объект `queries`\n",
        "* Delegation Agent + BM25 Retriever: поиск по предобработанным чанкам с возвратом контекста в LLM для финального ответа\n",
        "\n",
        "Почему так:\n",
        "* Гибкость запросов: LLM-роутинг позволяет обрабатывать сложные вопросы с фильтрацией по разделам\n",
        "* Контроль контекста: Pydantic гарантирует структурированный ввод / вывод, снижая риск галлюцинаций\n",
        "* Легковесность: BM25 работает быстро на небольших корпусах и не требует GPU\n",
        "\n",
        "Слабые места:\n",
        "* BM25 объективно уступает ретриверам на эмбеддингах в задачах семантического поиска Низкая точность на синонимах и сложных запросах\n",
        "* Многократные вызовы модели (роутинг + финальный ответ) увеличивают время ответа\n",
        "\n",
        "Потенциальные улучшения:\n",
        "* Реализовать гибридный поиск\n",
        "* Кэшировать результаты роутинга для повторяющихся запросов\n",
        "* Векторизация чанков для семантического поиска"
      ],
      "metadata": {
        "id": "DXocMQNhYH-A"
      }
    },
    {
      "cell_type": "markdown",
      "source": [
        "### 3. Заключение\n",
        "\n",
        "* Решение подходит для строго форматированных документов (юридические тексты, ГОСТы, СП)\n",
        "* Минималистичный стек технологий снижает порог входа и упрощает поддержку"
      ],
      "metadata": {
        "id": "GNmuVrbhbnME"
      }
    },
    {
      "cell_type": "markdown",
      "source": [
        "## Практическая реализация решения"
      ],
      "metadata": {
        "id": "h1IoLNzMcPlH"
      }
    },
    {
      "cell_type": "code",
      "source": [
        "%%capture\n",
        "!pip install langchain langchain-community langchain-openai langchain-huggingface huggingface_hub python-docx"
      ],
      "metadata": {
        "id": "Qq-ZJ5VpDp6j"
      },
      "execution_count": 1,
      "outputs": []
    },
    {
      "cell_type": "code",
      "source": [
        "import re\n",
        "\n",
        "# /content/Контрольные_Вопросы.md\n",
        "file_path = '/content/Контрольные_Вопросы.md'\n",
        "\n",
        "# Открываем файл и читаем его содержимое\n",
        "with open(file_path, 'r', encoding='utf-8') as file:\n",
        "    content = file.read()\n",
        "\n",
        "# Используем регулярное выражение для извлечения вопросов\n",
        "questions = re.findall(r'\\d+\\)\\s*(.*?\\?)', content)\n",
        "\n",
        "# Выводим список вопросов\n",
        "print(questions)"
      ],
      "metadata": {
        "colab": {
          "base_uri": "https://localhost:8080/"
        },
        "id": "3PzYo0lKdNxu",
        "outputId": "50176ebe-4615-42fe-f8bf-24801f2a11fe"
      },
      "execution_count": null,
      "outputs": [
        {
          "output_type": "stream",
          "name": "stdout",
          "text": [
            "['В каких зонах по весу снежного покрова находятся Херсон и Мелитополь?', 'Какие регионы Российской Федерации имеют высотный коэффициент  k_h , превышающий 2?', \"Что означает аббревиатура 'ТС'?\", 'Что должна содержать Пояснительная записка в графической части?', 'Сколько разделов должна содержать проектная документация согласно 87ому постановлению?', 'Какая максимальная скорость движения подземных машин в выработках?', 'Какая максимальная температура допускается в горных выработках?', 'Какие допустимые значения по отклонению геометрических параметров сечения горных выработок?', 'В каком пункте указана минимальная толщина защитного слоя бетона для арматуры при креплении стволов монолитной бетонной крепью?']\n"
          ]
        }
      ]
    },
    {
      "cell_type": "code",
      "source": [
        "from langchain_community.llms import HuggingFaceEndpoint\n",
        "from langchain_community.retrievers import BM25Retriever\n",
        "from langchain.output_parsers import PydanticOutputParser\n",
        "\n",
        "from pydantic import BaseModel\n",
        "\n",
        "from docx import Document\n",
        "from docx.enum.text import WD_ALIGN_PARAGRAPH\n",
        "\n",
        "import re\n",
        "import os\n",
        "import json\n",
        "\n",
        "# Путь к документу\n",
        "doc_path = '/content/О СОСТАВЕ РАЗДЕЛОВ ПРОЕКТНОЙ ДОКУМЕНТАЦИИ И ТРЕБОВАНИЯХ К ИХ СОДЕРЖАНИЮ.docx'\n",
        "\n",
        "def form_document(doc_path: str) -> str:\n",
        "    \"\"\"\n",
        "    Открывает документ и извлекает его текст\n",
        "    \"\"\"\n",
        "    doc = Document(doc_path)\n",
        "    # Собираем текст из всех абзацев, разделяя их табуляцией\n",
        "    document = '\\n'.join([paragraph.text for paragraph in doc.paragraphs if paragraph.text.strip()])\n",
        "    return document\n",
        "\n",
        "def extract_centered_paragraphs(doc_path: str) -> list:\n",
        "    \"\"\"\n",
        "    Извлекает все центрированные элементы из документа\n",
        "\n",
        "    :param doc_path: Путь к файлу\n",
        "    :return: Список центрированных элементов\n",
        "    \"\"\"\n",
        "    doc = Document(doc_path)\n",
        "    centered_paragraphs = []\n",
        "\n",
        "    for paragraph in doc.paragraphs:\n",
        "        if paragraph.paragraph_format.alignment == WD_ALIGN_PARAGRAPH.CENTER:\n",
        "            centered_paragraphs.append(paragraph.text)\n",
        "\n",
        "    return centered_paragraphs\n",
        "\n",
        "def extract_sections(document: str, section_titles: list) -> dict:\n",
        "    \"\"\"\n",
        "    Извлекает разделы документа на основе списка заголовков\n",
        "\n",
        "    :param document: Полный текст документа\n",
        "    :param section_titles: Список заголовков разделов\n",
        "    :return: Словарь, где ключ - заголовок раздела, значение - текст раздела\n",
        "    \"\"\"\n",
        "    sections = {}\n",
        "    for idx, title in enumerate(section_titles):\n",
        "        # Находим начало текущего раздела\n",
        "        start = document.find(title)\n",
        "\n",
        "        if start == -1:\n",
        "            continue\n",
        "        # Определяем конец текущего раздела как начало следующего заголовка\n",
        "        next_start = document.find(section_titles[idx + 1]) if idx + 1 < len(section_titles) else len(document)\n",
        "        end = next_start\n",
        "        # Извлекаем текст раздела\n",
        "        sections[title] = document[start:end].strip()\n",
        "    return sections\n",
        "\n",
        "def extract_sub_sections(document: str) -> list:\n",
        "    \"\"\"\n",
        "    Извлекает подразделы, определяемые как строки, начинающиеся с цифры и точки\n",
        "\n",
        "    :param document: Полный текст документа\n",
        "    :return: Список найденных подразделов\n",
        "    \"\"\"\n",
        "    sub_sections = []\n",
        "    lines = document.split('\\n')\n",
        "    for line in lines:\n",
        "        stripped_line = line.strip()\n",
        "        # Проверяем, начинается ли строка с цифры и точки\n",
        "        if re.match(r'^\\d+\\.', stripped_line):\n",
        "            sub_sections.append(stripped_line)\n",
        "    return sub_sections\n",
        "\n",
        "def extract_section_title(text):\n",
        "    \"\"\"\n",
        "    Извлекает название раздела из строки, предполагая, что оно заключено в кавычки\n",
        "\n",
        "    :param text: Строка, в которой нужно найти название раздела\n",
        "    :return: Название раздела, если оно найдено, иначе None\n",
        "    \"\"\"\n",
        "    # Регулярное выражение для поиска названия раздела\n",
        "    pattern = r'Раздел \\d+ \"([^\"]+)\"'\n",
        "    match = re.search(pattern, text)\n",
        "\n",
        "    if match:\n",
        "        # Если совпадение найдено, извлекаем название раздела\n",
        "        section_title = match.group(1)\n",
        "        return section_title\n",
        "    else:\n",
        "        # Если совпадение не найдено, возвращаем None\n",
        "        return ''\n",
        "\n",
        "def extract_preprocessed_sections(document: str, section_titles: list) -> dict:\n",
        "    \"\"\"\n",
        "    Извлекает разделы документа на основе списка заголовков\n",
        "\n",
        "    :param document: Полный текст документа\n",
        "    :param section_titles: Список заголовков разделов\n",
        "    :return: Словарь, где ключ - заголовок раздела, значение - текст раздела\n",
        "    \"\"\"\n",
        "    sections = {}\n",
        "    for idx, title in enumerate(section_titles):\n",
        "        # Находим начало текущего раздела\n",
        "        start = document.find(title)\n",
        "\n",
        "        if start == -1:\n",
        "            continue\n",
        "        # Определяем конец текущего раздела как начало следующего заголовка\n",
        "        next_start = document.find(section_titles[idx + 1]) if idx + 1 < len(section_titles) else len(document)\n",
        "        end = next_start\n",
        "        # Извлекаем текст раздела\n",
        "        if extract_section_title(title) != '':\n",
        "            sections[extract_section_title(title)] = document[start:end].strip()\n",
        "    return sections"
      ],
      "metadata": {
        "id": "PYIDbz_QcXC2"
      },
      "execution_count": 2,
      "outputs": []
    },
    {
      "cell_type": "code",
      "source": [
        "text = \"\"\"\n",
        " '6. Раздел 5 \"Проект организации работ по сносу (демонтажу) линейного объекта\", включаемый в состав проектной документации при необходимости сноса (демонтажа) линейного объекта или части линейного объекта, в текстовой части содержит документы и сведения, указанные в подпунктах \"ф.1\" и \"ш\" пункта 23 Положения, а также перечень проектных решений по устройству временных сетей инженерно-технического обеспечения на период строительства линейного объекта (при наличии объектов, подлежащих сносу (демонтажу), попадающих в зону строительства сетей газораспределения и (или) газопотребления).'\n",
        "\"\"\"\n",
        "\n",
        "extract_section_title(text)"
      ],
      "metadata": {
        "colab": {
          "base_uri": "https://localhost:8080/",
          "height": 36
        },
        "id": "pk0hGFpw2F3h",
        "outputId": "08dcdf22-2b47-43df-a1c1-bd6dc613e9a3"
      },
      "execution_count": null,
      "outputs": [
        {
          "output_type": "execute_result",
          "data": {
            "text/plain": [
              "'Проект организации работ по сносу (демонтажу) линейного объекта'"
            ],
            "application/vnd.google.colaboratory.intrinsic+json": {
              "type": "string"
            }
          },
          "metadata": {},
          "execution_count": 24
        }
      ]
    },
    {
      "cell_type": "code",
      "source": [
        "# Функция для создания JSON-документа из строки\n",
        "def create_json_document(doc_path: str, output_file: str = 'О_Составе_Разделов_ПД.json'):\n",
        "    \"\"\"\n",
        "    Основная функция для обработки документа и сохранения результата в JSON-файл.\n",
        "\n",
        "    :param doc_path: Путь к документу для обработки.\n",
        "    :param output_file: Имя выходного JSON-файла (по умолчанию 'О_Составе_Разделов_ПД.json').\n",
        "    \"\"\"\n",
        "    # Извлекаем текст документа\n",
        "    document = form_document(doc_path)  # String: Полный текст документа\n",
        "\n",
        "    # Извлекаем центрированные параграфы (например, заголовки)\n",
        "    centered_paragraphs = extract_centered_paragraphs(doc_path)  # List: Список центрированных параграфов\n",
        "\n",
        "    # Извлекаем подразделы документа\n",
        "    sub_sections = extract_sub_sections(document)  # List: Список подразделов\n",
        "\n",
        "    # Извлекаем разделы документа на основе центрированных параграфов\n",
        "    document_dict = extract_sections(document, centered_paragraphs)  # Dict: Словарь с разделами документа\n",
        "\n",
        "    # Обрабатываем каждый раздел для извлечения подразделов\n",
        "    final_document_dict = {}\n",
        "\n",
        "    for key, value in document_dict.items():\n",
        "        # Для каждого раздела извлекаем подразделы\n",
        "        final_document_dict[key] = extract_preprocessed_sections(value, sub_sections)  # Dict: Вложенный словарь с подразделами\n",
        "\n",
        "    # Сохраняем результат в JSON-файл\n",
        "    with open(output_file, 'w', encoding='utf-8') as f:\n",
        "        json.dump(final_document_dict, f, indent=4, ensure_ascii=False)\n",
        "    print(f'Документ успешно сохранён в файл: {output_file}')\n",
        "\n",
        "create_json_document(doc_path)"
      ],
      "metadata": {
        "id": "-9rEGC4ncUSu",
        "colab": {
          "base_uri": "https://localhost:8080/"
        },
        "outputId": "edd2bd8d-0810-4a8d-ca87-b2eb66d986ee"
      },
      "execution_count": 3,
      "outputs": [
        {
          "output_type": "stream",
          "name": "stdout",
          "text": [
            "Документ успешно сохранён в файл: О_Составе_Разделов_ПД.json\n"
          ]
        }
      ]
    },
    {
      "cell_type": "code",
      "source": [
        "with open('О_Составе_Разделов_ПД.json', 'r', encoding='utf-8') as f:\n",
        "    project_structure = json.load(f)\n",
        "\n",
        "# Сбор длин всех элементов списков на последнем уровне вложенности\n",
        "char_counts = []\n",
        "for outer_key, inner_dict in project_structure.items():\n",
        "    for inner_key, value_list in inner_dict.items():\n",
        "        char_counts.append(len(value_list))\n",
        "\n",
        "# Вычисление среднего значения\n",
        "average = sum(char_counts) / len(char_counts)\n",
        "print(f\"Среднее число символов одного элемента списка: {average:.2f}\")"
      ],
      "metadata": {
        "colab": {
          "base_uri": "https://localhost:8080/"
        },
        "id": "jz2nFkDSN1op",
        "outputId": "ceb599e3-40a7-4e2a-f59c-8ae59541a75b"
      },
      "execution_count": 4,
      "outputs": [
        {
          "output_type": "stream",
          "name": "stdout",
          "text": [
            "Среднее число символов одного элемента списка: 3249.02\n"
          ]
        }
      ]
    },
    {
      "cell_type": "code",
      "source": [
        "from langchain_huggingface.llms.huggingface_endpoint import HuggingFaceEndpoint\n",
        "\n",
        "llm = HuggingFaceEndpoint(\n",
        "    task='text-generation',\n",
        "    model='deepseek-ai/DeepSeek-R1-Distill-Qwen-7B',\n",
        "    temperature=0.1,\n",
        "    huggingfacehub_api_token='token'\n",
        ")"
      ],
      "metadata": {
        "id": "19TSFP30fs_s"
      },
      "execution_count": 7,
      "outputs": []
    },
    {
      "cell_type": "code",
      "source": [
        "# Pydantic-модель для роутинга\n",
        "class queries(BaseModel):\n",
        "    sections: list[str]\n",
        "    subsections: list[str]\n",
        "    chain_of_thought: str\n",
        "\n",
        "# Создание словаря, где ключи — это ключи верхнего уровня, а значения — ключи первой вложенности\n",
        "structure = {outer_key: list(inner_dict.keys()) for outer_key, inner_dict in project_structure.items()}\n",
        "document_structure = str(structure)\n",
        "\n",
        "parser = PydanticOutputParser(pydantic_object = queries)\n",
        "format_instructions = parser.get_format_instructions\n",
        "\n",
        "question = \"\"\"\n",
        "Что написано в разделе охраны окружающей среды для атомных станций?\n",
        "\"\"\"\n",
        "\n",
        "system_prompt_delegation = f\"\"\"\n",
        "Ты будешь получать запросы, ответы на который есть в документе.\n",
        "У вас тебя есть к специализированным агентам, которые могут извлекать данные из документа.\n",
        "Документ имеет следующую структуру: {document_structure}\n",
        "\n",
        "Чтобы делегировать задачи этим агентам, следуй следующим рекомендациям:\n",
        "\n",
        "1. Определите раздела:\n",
        "    - Укажи точные названия разделов документа, в которых потенциально можно будет найти информация для ответа и перечисли их в разделе 'sections'. Убедитесь, что названия разделов точно соответствуют тем, что указаны в {list(structure.keys())}.\n",
        "\n",
        "2. Определения подразделов:\n",
        "    - Для каждой идентифицированного раздела укажи также и подразделы в 'subsections', в которых специализированные агенты смогут найти нужную информацию.\n",
        "    - Перечисли эти запросы в разделе 'queries'.\n",
        "\n",
        "3. Цепочка рассуждений: Предоставь 'chain_of_thought', объясняя, почему именно эти разделы и подразделы ты выбрал для достижения результата.\n",
        "\n",
        "{format_instructions}\n",
        "\n",
        "Запрос для поиска: {question}\n",
        "\n",
        "Верни ответ в JSON формате!\n",
        "\"\"\"\n",
        "\n",
        "answer = llm.invoke(system_prompt_delegation)\n",
        "parsed_answer = parser.parse(answer).dict()"
      ],
      "metadata": {
        "colab": {
          "base_uri": "https://localhost:8080/"
        },
        "id": "gcdUazhY9oiM",
        "outputId": "3790a376-2435-4026-bb0a-b2d00668a4f5"
      },
      "execution_count": 8,
      "outputs": [
        {
          "output_type": "stream",
          "name": "stderr",
          "text": [
            "/usr/local/lib/python3.11/dist-packages/huggingface_hub/utils/_deprecation.py:131: FutureWarning: 'post' (from 'huggingface_hub.inference._client') is deprecated and will be removed from version '0.31.0'. Making direct POST requests to the inference server is not supported anymore. Please use task methods instead (e.g. `InferenceClient.chat_completion`). If your use case is not supported, please open an issue in https://github.com/huggingface/huggingface_hub.\n",
            "  warnings.warn(warning_message, FutureWarning)\n",
            "/usr/local/lib/python3.11/dist-packages/huggingface_hub/utils/_auth.py:94: UserWarning: \n",
            "The secret `HF_TOKEN` does not exist in your Colab secrets.\n",
            "To authenticate with the Hugging Face Hub, create a token in your settings tab (https://huggingface.co/settings/tokens), set it as secret in your Google Colab and restart your session.\n",
            "You will be able to reuse this secret in all of your notebooks.\n",
            "Please note that authentication is recommended but still optional to access public models or datasets.\n",
            "  warnings.warn(\n",
            "<ipython-input-8-7a872fb5f5c1>:42: PydanticDeprecatedSince20: The `dict` method is deprecated; use `model_dump` instead. Deprecated in Pydantic V2.0 to be removed in V3.0. See Pydantic V2 Migration Guide at https://errors.pydantic.dev/2.10/migration/\n",
            "  parsed_answer = parser.parse(answer).dict()\n"
          ]
        }
      ]
    },
    {
      "cell_type": "code",
      "source": [
        "parsed_answer"
      ],
      "metadata": {
        "colab": {
          "base_uri": "https://localhost:8080/"
        },
        "id": "dh7xJCRxwfNJ",
        "outputId": "13c4b3f0-4acb-4df7-ee72-44a9c2a4d1e1"
      },
      "execution_count": 9,
      "outputs": [
        {
          "output_type": "execute_result",
          "data": {
            "text/plain": [
              "{'sections': ['ОСОБЕННОСТИ СОСТАВА РАЗДЕЛОВ ПРОЕКТНОЙ ДОКУМЕНТАЦИИ ДЛЯ АТОМНЫХ СТАНЦИЙ И ТРЕБОВАНИЙ К ИХ СОДЕРЖАНИЮ'],\n",
              " 'subsections': ['Мероприятия по охране окружающей среды'],\n",
              " 'chain_of_thought': 'Для ответа на запрос о том, что написано в разделе охраны окружающей среды для атомных станций, мы должны обратиться к разделу, посвященному особенностям составления проектной документации для атомных станций. В этом разделе содержится информация о требованиях к содержанию разделов проектной документации, в том числе и о мероприятиях по охране окружающей среды.'}"
            ]
          },
          "metadata": {},
          "execution_count": 9
        }
      ]
    },
    {
      "cell_type": "code",
      "source": [
        "project_structure['ОСОБЕННОСТИ СОСТАВА РАЗДЕЛОВ ПРОЕКТНОЙ ДОКУМЕНТАЦИИ ДЛЯ АТОМНЫХ СТАНЦИЙ И ТРЕБОВАНИЙ К ИХ СОДЕРЖАНИЮ']['Мероприятия по охране окружающей среды']"
      ],
      "metadata": {
        "colab": {
          "base_uri": "https://localhost:8080/",
          "height": 140
        },
        "id": "gbP6q3Upg5Ck",
        "outputId": "e55d73fc-8e61-454b-8695-2bd70bec7afe"
      },
      "execution_count": 12,
      "outputs": [
        {
          "output_type": "execute_result",
          "data": {
            "text/plain": [
              "'13. Раздел 8 \"Мероприятия по охране окружающей среды\" дополнительно содержит:\\nв текстовой части\\nа) сведения по оценке радиационного воздействия на население и окружающую среду при ситуациях, учитываемых проектом, в том числе вызванных техногенными и природными явлениями, прогноз миграции радионуклидов в поверхностных и подземных водах и прогноз их накопления в донных отложениях;\\nб) результаты расчетов приземных концентраций загрязняющих веществ, в том числе радиоактивных, анализ и предложения по нормативам допустимых выбросов;\\nв) сведения о характеристиках образующихся радиоактивных отходов (агрегатное состояние газообразных радиоактивных отходов, жидких радиоактивных отходов, твердых радиоактивных отходов, удельная активность, годовое количество (масса), радионуклидный состав, активность по отдельным радионуклидам, классификация по критериям отнесения радиоактивных отходов к особым и удаляемым, по классам удаляемых радиоактивных отходов, сведения о порядке обращения, меры по предупреждению и ликвидации аварийного образования радиоактивных отходов);\\nг) сведения о системе радиационного контроля в санитарно-защитной зоне и зоне наблюдения, в том числе за содержанием радионуклидов в объектах окружающей среды;\\nв графической части\\nд) границы зоны наблюдения;\\nе) ситуационный план (карту-схему) района строительства с указанием расположения источников выбросов в атмосферу загрязняющих веществ, в том числе радиоактивных веществ, и устройств по очистке этих выбросов с указанием мест расположения пунктов наблюдения и контрольных постов наблюдения за радиационной обстановкой, в том числе за содержанием радионуклидов в объектах окружающей среды.'"
            ],
            "application/vnd.google.colaboratory.intrinsic+json": {
              "type": "string"
            }
          },
          "metadata": {},
          "execution_count": 12
        }
      ]
    },
    {
      "cell_type": "code",
      "source": [],
      "metadata": {
        "id": "1GGZaffwiKwc"
      },
      "execution_count": null,
      "outputs": []
    },
    {
      "cell_type": "code",
      "source": [],
      "metadata": {
        "id": "_BpZexS0W0sc"
      },
      "execution_count": null,
      "outputs": []
    },
    {
      "cell_type": "code",
      "execution_count": null,
      "metadata": {
        "id": "BSyYe8NApQYL"
      },
      "outputs": [],
      "source": []
    },
    {
      "cell_type": "code",
      "source": [],
      "metadata": {
        "id": "P-z5RV8cpVkf"
      },
      "execution_count": null,
      "outputs": []
    }
  ]
}